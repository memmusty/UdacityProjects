{
 "cells": [
  {
   "cell_type": "markdown",
   "metadata": {
    "deletable": true,
    "editable": true
   },
   "source": [
    "# 2016 US Bike Share Activity Snapshot\n",
    "\n",
    "## Table of Contents\n",
    "- [Introduction](#intro)\n",
    "- [Posing Questions](#pose_questions)\n",
    "- [Data Collection and Wrangling](#wrangling)\n",
    "  - [Condensing the Trip Data](#condensing)\n",
    "- [Exploratory Data Analysis](#eda)\n",
    "  - [Statistics](#statistics)\n",
    "  - [Visualizations](#visualizations)\n",
    "- [Performing Your Own Analysis](#eda_continued)\n",
    "- [Conclusions](#conclusions)\n",
    "\n",
    "<a id='intro'></a>\n",
    "## Introduction\n",
    "\n",
    "> **Tip**: Quoted sections like this will provide helpful instructions on how to navigate and use a Jupyter notebook.\n",
    "\n",
    "Over the past decade, bicycle-sharing systems have been growing in number and popularity in cities across the world. Bicycle-sharing systems allow users to rent bicycles for short trips, typically 30 minutes or less. Thanks to the rise in information technologies, it is easy for a user of the system to access a dock within the system to unlock or return bicycles. These technologies also provide a wealth of data that can be used to explore how these bike-sharing systems are used.\n",
    "\n",
    "In this project, I performed an exploratory analysis on data provided by [Motivate](https://www.motivateco.com/), a bike-share system provider for many major cities in the United States. I compared the system usage between three large cities: New York City, Chicago, and Washington, DC. I also ckecked for differences within each system for those users that are registered, regular users and those users that are short-term, casual users."
   ]
  },
  {
   "cell_type": "markdown",
   "metadata": {
    "deletable": true,
    "editable": true
   },
   "source": [
    "<a id='pose_questions'></a>\n",
    "## Posing Questions\n",
    "\n",
    "I started by asking questions I wanted to understand about the bike share data. \n",
    "\n",
    "**Question 1**: Write at least two questions related to bike sharing that you think could be answered by data.\n",
    "\n",
    "**Answer**: \n",
    "\n",
    "Question 1: Which month has the highest ridership?\n",
    "\n",
    "Question 2: Is the pattern of ridership different on weekends vs. weekdays?"
   ]
  },
  {
   "cell_type": "markdown",
   "metadata": {
    "deletable": true,
    "editable": true
   },
   "source": [
    "<a id='wrangling'></a>\n",
    "## Data Collection and Wrangling\n",
    "\n",
    "Now it's time to collect and explore our data. In this project,I focused on the record of individual trips taken in 2016 from our selected cities: New York City, Chicago, and Washington, DC. Each of these cities has a page where we can freely download the trip data.:\n",
    "\n",
    "- New York City (Citi Bike): [Link](https://www.citibikenyc.com/system-data)\n",
    "- Chicago (Divvy): [Link](https://www.divvybikes.com/system-data)\n",
    "- Washington, DC (Capital Bikeshare): [Link](https://www.capitalbikeshare.com/system-data)\n",
    "\n",
    "If you visit these pages, you will notice that each city has a different way of delivering its data. Chicago updates with new data twice a year, Washington DC is quarterly, and New York City is monthly. Some data wrangling of inconsistencies in timestamp format within each city was performed already. In addition, a random 2% sample of the original data is taken to make the exploration more manageable. \n",
    "\n",
    "**Question 2**: However, there is still a lot of data for us to investigate, so it's a good idea to start off by looking at one entry from each of the cities we're going to analyze. "
   ]
  },
  {
   "cell_type": "code",
   "execution_count": 22,
   "metadata": {
    "collapsed": true,
    "deletable": true,
    "editable": true
   },
   "outputs": [],
   "source": [
    "## import all necessary packages and functions.\n",
    "import csv # read and write csv files\n",
    "from datetime import datetime # operations to parse dates\n",
    "from pprint import pprint # use to print data structures like dictionaries in\n",
    "                          # a nicer way than the base print function.\n",
    "    \n",
    "import numpy as np"
   ]
  },
  {
   "cell_type": "code",
   "execution_count": 3,
   "metadata": {
    "collapsed": false,
    "deletable": true,
    "editable": true
   },
   "outputs": [
    {
     "name": "stdout",
     "output_type": "stream",
     "text": [
      "\n",
      "City: NYC\n",
      "OrderedDict([('tripduration', '839'),\n",
      "             ('starttime', '1/1/2016 00:09:55'),\n",
      "             ('stoptime', '1/1/2016 00:23:54'),\n",
      "             ('start station id', '532'),\n",
      "             ('start station name', 'S 5 Pl & S 4 St'),\n",
      "             ('start station latitude', '40.710451'),\n",
      "             ('start station longitude', '-73.960876'),\n",
      "             ('end station id', '401'),\n",
      "             ('end station name', 'Allen St & Rivington St'),\n",
      "             ('end station latitude', '40.72019576'),\n",
      "             ('end station longitude', '-73.98997825'),\n",
      "             ('bikeid', '17109'),\n",
      "             ('usertype', 'Customer'),\n",
      "             ('birth year', ''),\n",
      "             ('gender', '0')])\n",
      "\n",
      "City: Chicago\n",
      "OrderedDict([('trip_id', '9080545'),\n",
      "             ('starttime', '3/31/2016 23:30'),\n",
      "             ('stoptime', '3/31/2016 23:46'),\n",
      "             ('bikeid', '2295'),\n",
      "             ('tripduration', '926'),\n",
      "             ('from_station_id', '156'),\n",
      "             ('from_station_name', 'Clark St & Wellington Ave'),\n",
      "             ('to_station_id', '166'),\n",
      "             ('to_station_name', 'Ashland Ave & Wrightwood Ave'),\n",
      "             ('usertype', 'Subscriber'),\n",
      "             ('gender', 'Male'),\n",
      "             ('birthyear', '1990')])\n",
      "\n",
      "City: Washington\n",
      "OrderedDict([('Duration (ms)', '427387'),\n",
      "             ('Start date', '3/31/2016 22:57'),\n",
      "             ('End date', '3/31/2016 23:04'),\n",
      "             ('Start station number', '31602'),\n",
      "             ('Start station', 'Park Rd & Holmead Pl NW'),\n",
      "             ('End station number', '31207'),\n",
      "             ('End station', 'Georgia Ave and Fairmont St NW'),\n",
      "             ('Bike number', 'W20842'),\n",
      "             ('Member Type', 'Registered')])\n"
     ]
    }
   ],
   "source": [
    "def print_first_point(filename):\n",
    "    \"\"\"\n",
    "    This function prints and returns the first data point (second row) from\n",
    "    a csv file that includes a header row.\n",
    "    \"\"\"\n",
    "    # print city name for reference\n",
    "    city = filename.split('-')[0].split('/')[-1]\n",
    "    print('\\nCity: {}'.format(city))\n",
    "    \n",
    "    with open(filename, 'r') as f_in:\n",
    "        trip_reader =csv.DictReader(f_in)\n",
    "        #read and print the first trip.\n",
    "        first_trip =trip_reader.__next__()\n",
    "        pprint(first_trip)\n",
    "        \n",
    "    # output city name and first trip for later testing\n",
    "    return (city, first_trip)\n",
    "\n",
    "# list of files for each city\n",
    "data_files = ['./data/NYC-CitiBike-2016.csv',\n",
    "              './data/Chicago-Divvy-2016.csv',\n",
    "              './data/Washington-CapitalBikeshare-2016.csv',]\n",
    "\n",
    "# print the first trip from each file, store in dictionary\n",
    "example_trips = {}\n",
    "for data_file in data_files:\n",
    "    city, first_trip = print_first_point(data_file)\n",
    "    example_trips[city] = first_trip"
   ]
  },
  {
   "cell_type": "markdown",
   "metadata": {
    "deletable": true,
    "editable": true
   },
   "source": [
    "<a id='condensing'></a>\n",
    "### Condensing the Trip Data\n",
    "\n",
    "It was observed from the above printout that each city provides different information. Even where the information is the same, the column names and formats are sometimes different. To make the dataset good for analysis, I cleaned the data as below.\n",
    "\n",
    "I generated new data files with five values of interest for each trip: trip duration, starting month, starting hour, day of the week, and user type. \n",
    "\n",
    "- **Duration**: This was given in seconds (New York, Chicago) or milliseconds (Washington). A more natural unit of analysis was to convert all the trip durations given in terms of minutes.\n",
    "- **Month**, **Hour**, **Day of Week**: Ridership volume is likely to change based on the season, time of day, and whether it is a weekday or weekend. I used the start time of the trip to obtain these values. The New York City data includes the seconds in their timestamps, while Washington and Chicago do not. \n",
    "- **User Type**: It is possible that users who are subscribed to a bike-share system will have different patterns of use compared to users who only have temporary passes. Washington divides its users into two types: 'Registered' for users with annual, monthly, and other longer-term subscriptions, and 'Casual', for users with 24-hour, 3-day, and other short-term passes. The New York and Chicago data uses 'Subscriber' and 'Customer' for these groups, respectively. For consistency, I converted the Washington labels to match the other two.\n",
    "\n",
    "\n",
    "**Question 3a**: Complete the helper functions in the code cells below to address each of the cleaning tasks described above."
   ]
  },
  {
   "cell_type": "code",
   "execution_count": 5,
   "metadata": {
    "collapsed": true,
    "deletable": true,
    "editable": true
   },
   "outputs": [],
   "source": [
    "def duration_in_mins(datum, city):\n",
    "    \"\"\"\n",
    "    Takes as input a dictionary containing info about a single trip (datum) and\n",
    "    its origin city (city) and returns the trip duration in units of minutes.\n",
    "    \n",
    "    Remember that Washington is in terms of milliseconds while Chicago and NYC\n",
    "    are in terms of seconds. \n",
    "    \n",
    "    HINT: The csv module reads in all of the data as strings, including numeric\n",
    "    values. You will need a function to convert the strings into an appropriate\n",
    "    numeric type when making your transformations.\n",
    "    see https://docs.python.org/3/library/functions.html\n",
    "    \"\"\"\n",
    "    \n",
    "    duration=0\n",
    "    # converts waashington duration from milliseconds to minutes\n",
    "    if(city==\"Washington\"):\n",
    "        duration=int(datum['Duration (ms)'])\n",
    "        duration/=10**3\n",
    "        duration/=60    \n",
    "    # converts New York and Chicago duration from seconds to minutes    duration/=60\n",
    "    else:\n",
    "        duration=int(datum['tripduration'])\n",
    "        duration/=60  \n",
    "    return duration\n",
    "\n",
    "\n",
    "# Some tests to check that my code works. \n",
    "tests = {'NYC': 13.9833,\n",
    "         'Chicago': 15.4333,\n",
    "         'Washington': 7.1231}\n",
    "\n",
    "for city in tests:\n",
    "    assert abs(duration_in_mins(example_trips[city], city) - tests[city]) < .001"
   ]
  },
  {
   "cell_type": "code",
   "execution_count": 7,
   "metadata": {
    "collapsed": true,
    "deletable": true,
    "editable": true
   },
   "outputs": [],
   "source": [
    "def time_of_trip(datum, city):\n",
    "    \"\"\"\n",
    "    Takes as input a dictionary containing info about a single trip (datum) and\n",
    "    its origin city (city) and returns the month, hour, and day of the week in\n",
    "    which the trip was made.\n",
    "    \n",
    "    Remember that NYC includes seconds, while Washington and Chicago do not.\n",
    "    \n",
    "    HINT: You should use the datetime module to parse the original date\n",
    "    strings into a format that is useful for extracting the desired information.\n",
    "    see https://docs.python.org/3/library/datetime.html#strftime-and-strptime-behavior\n",
    "    \"\"\"\n",
    "    \n",
    "    #to get the month, hour, and day of the week in which the trip was made\n",
    "    if(city==\"NYC\"):\n",
    "        triptime=datetime.strptime(datum['starttime'],'%m/%d/%Y %H:%M:%S')        \n",
    "        return (triptime.month, triptime.hour, triptime.strftime(\"%A\"))\n",
    "    elif(city==\"Chicago\"):\n",
    "        triptime=datetime.strptime(datum['starttime'],'%m/%d/%Y %H:%M')        \n",
    "        return (triptime.month, triptime.hour, triptime.strftime(\"%A\"))\n",
    "    else:\n",
    "        triptime=datetime.strptime(datum['Start date'],'%m/%d/%Y %H:%M')        \n",
    "        return (triptime.month, triptime.hour, triptime.strftime(\"%A\"))    \n",
    "\n",
    "\n",
    "# Some tests to check that my code works. \n",
    "tests = {'NYC': (1, 0, 'Friday'),\n",
    "         'Chicago': (3, 23, 'Thursday'),\n",
    "         'Washington': (3, 22, 'Thursday')}\n",
    "\n",
    "for city in tests:\n",
    "    assert time_of_trip(example_trips[city], city) == tests[city]"
   ]
  },
  {
   "cell_type": "code",
   "execution_count": 8,
   "metadata": {
    "collapsed": true,
    "deletable": true,
    "editable": true
   },
   "outputs": [],
   "source": [
    "def type_of_user(datum, city):\n",
    "    \"\"\"\n",
    "    Takes as input a dictionary containing info about a single trip (datum) and\n",
    "    its origin city (city) and returns the type of system user that made the\n",
    "    trip.\n",
    "    \n",
    "    Remember that Washington has different category names compared to Chicago\n",
    "    and NYC. \n",
    "    \"\"\"\n",
    "    \n",
    "    user_type=\"\"\n",
    "    #the type of system user that made the trip\n",
    "    if(city==\"Washington\"):\n",
    "        if(datum['Member Type']=='Registered'):\n",
    "            user_type='Subscriber'\n",
    "        else:\n",
    "            user_type='Customer'\n",
    "    else:\n",
    "        user_type=datum['usertype']\n",
    "    return user_type\n",
    "\n",
    "\n",
    "# Some tests to check that my code works. \n",
    "tests = {'NYC': 'Customer',\n",
    "         'Chicago': 'Subscriber',\n",
    "         'Washington': 'Subscriber'}\n",
    "\n",
    "for city in tests:\n",
    "    assert type_of_user(example_trips[city], city) == tests[city]"
   ]
  },
  {
   "cell_type": "markdown",
   "metadata": {
    "deletable": true,
    "editable": true
   },
   "source": [
    "**Question 3b**: Now, use the helper functions you wrote above to create a condensed data file for each city consisting only of the data fields indicated above. In the `/examples/` folder, you will see an example datafile from the [Bay Area Bike Share](http://www.bayareabikeshare.com/open-data) before and after conversion. Make sure that your output is formatted to be consistent with the example file."
   ]
  },
  {
   "cell_type": "code",
   "execution_count": 18,
   "metadata": {
    "collapsed": true,
    "deletable": true,
    "editable": true
   },
   "outputs": [],
   "source": [
    "def condense_data(in_file, out_file, city):\n",
    "    \"\"\"\n",
    "    This function takes full data from the specified input file\n",
    "    and writes the condensed data to a specified output file. The city\n",
    "    argument determines how the input file will be parsed.\n",
    "    \n",
    "    HINT: See the cell below to see how the arguments are structured!\n",
    "    \"\"\"\n",
    "    \n",
    "    with open(out_file, 'w') as f_out, open(in_file, 'r') as f_in:\n",
    "        # set up csv DictWriter object - writer requires column names for the\n",
    "        # first row as the \"fieldnames\" argument\n",
    "        out_colnames = ['duration', 'month', 'hour', 'day_of_week', 'user_type']        \n",
    "        trip_writer = csv.DictWriter(f_out, fieldnames = out_colnames)\n",
    "        trip_writer.writeheader()\n",
    "        \n",
    "       \n",
    "        #set up csv DictReader object \n",
    "        trip_reader=csv.DictReader(f_in)\n",
    "\n",
    "        # collect data from and process each row\n",
    "        for row in trip_reader:\n",
    "            # set up a dictionary to hold the values for the cleaned and trimmed\n",
    "            # data point\n",
    "            new_point = {}\n",
    "\n",
    "            #getting the cleaned data from the original data dictionaries.  ##\n",
    "            ## Note that the keys for the new_point dictionary should match ##\n",
    "            ## the column names set in the DictWriter object above.         ##\n",
    "            new_point['duration']=duration_in_mins(row, city)\n",
    "            new_point['user_type']=type_of_user(row, city)\n",
    "            new_point['month'], new_point['hour'], new_point['day_of_week']=time_of_trip(row, city)\n",
    "\n",
    "            #write the processed information to the output file.\n",
    "            trip_writer.writerow(new_point)"
   ]
  },
  {
   "cell_type": "code",
   "execution_count": 10,
   "metadata": {
    "collapsed": false,
    "deletable": true,
    "editable": true
   },
   "outputs": [
    {
     "name": "stdout",
     "output_type": "stream",
     "text": [
      "\n",
      "City: Washington\n",
      "OrderedDict([('duration', '7.123116666666666'),\n",
      "             ('month', '3'),\n",
      "             ('hour', '22'),\n",
      "             ('day_of_week', 'Thursday'),\n",
      "             ('user_type', 'Subscriber')])\n",
      "\n",
      "City: Chicago\n",
      "OrderedDict([('duration', '15.433333333333334'),\n",
      "             ('month', '3'),\n",
      "             ('hour', '23'),\n",
      "             ('day_of_week', 'Thursday'),\n",
      "             ('user_type', 'Subscriber')])\n",
      "\n",
      "City: NYC\n",
      "OrderedDict([('duration', '13.983333333333333'),\n",
      "             ('month', '1'),\n",
      "             ('hour', '0'),\n",
      "             ('day_of_week', 'Friday'),\n",
      "             ('user_type', 'Customer')])\n"
     ]
    }
   ],
   "source": [
    "# Run this cell to check my work\n",
    "city_info = {'Washington': {'in_file': './data/Washington-CapitalBikeshare-2016.csv',\n",
    "                            'out_file': './data/Washington-2016-Summary.csv'},\n",
    "             'Chicago': {'in_file': './data/Chicago-Divvy-2016.csv',\n",
    "                         'out_file': './data/Chicago-2016-Summary.csv'},\n",
    "             'NYC': {'in_file': './data/NYC-CitiBike-2016.csv',\n",
    "                     'out_file': './data/NYC-2016-Summary.csv'}}\n",
    "\n",
    "for city, filenames in city_info.items():\n",
    "    condense_data(filenames['in_file'], filenames['out_file'], city)\n",
    "    print_first_point(filenames['out_file'])"
   ]
  },
  {
   "cell_type": "markdown",
   "metadata": {
    "deletable": true,
    "editable": true
   },
   "source": [
    "<a id='eda'></a>\n",
    "## Exploratory Data Analysis\n",
    "\n",
    "Now that I have the data collected and wrangled, I'm ready to start exploring the data. In this section I wrote some code to compute descriptive statistics from the data. I also used the `matplotlib` library to create some basic histograms of the data.\n",
    "\n",
    "<a id='statistics'></a>\n",
    "### Statistics\n",
    "\n",
    "First, let's compute some basic counts. The first cell below contains a function that uses the csv module to iterate through a provided data file, returning the number of trips made by subscribers and customers. The second cell runs this function on the example Bay Area data in the `/examples/` folder. \n",
    "\n",
    "**Question 4a**:\n",
    "\n",
    "1. Which city has the highest number of trips? \n",
    "2. Which city has the highest proportion of trips made by subscribers?\n",
    "3. Which city has the highest proportion of trips made by short-term customers?\n",
    "\n",
    "**Answer**:\n",
    "\n",
    "1. New York City has the highest number of trips \n",
    "2. New York City has the highest proportion of trips made by subscribers\n",
    "3. Chicago has the highest proportion of trips made by short-term customers"
   ]
  },
  {
   "cell_type": "code",
   "execution_count": 15,
   "metadata": {
    "collapsed": false,
    "deletable": true,
    "editable": true
   },
   "outputs": [],
   "source": [
    "def number_of_trips(filename):\n",
    "    \"\"\"\n",
    "    This function reads in a file with trip data and reports the proportion of\n",
    "    trips made by subscribers, customers, and total overall  number of\n",
    "    trips made.\n",
    "    \"\"\"\n",
    "    with open(filename, 'r') as f_in:\n",
    "        # set up csv reader object\n",
    "        reader = csv.DictReader(f_in)\n",
    "        \n",
    "        # initialize count variables\n",
    "        n_subscribers = 0\n",
    "        n_customers = 0\n",
    "        p_subscribers = 0\n",
    "        p_customers = 0\n",
    "        \n",
    "        # tally up ride types\n",
    "        for row in reader:\n",
    "            if row['user_type'] == 'Subscriber':\n",
    "                n_subscribers += 1\n",
    "            else:\n",
    "                n_customers += 1\n",
    "        \n",
    "        # compute total number of rides\n",
    "        n_total = n_subscribers + n_customers\n",
    "        \n",
    "        # compute the proportion of each type of users\n",
    "        p_subscribers=n_subscribers/n_total\n",
    "        p_customers =n_customers/n_total\n",
    "        \n",
    "        # return tallies as a tuple\n",
    "        return(p_subscribers, p_customers, n_total)\n",
    "    \n",
    "def trips_city(filename):\n",
    "    \"\"\"\n",
    "    This function reads in a file with trip data and reports the city with \n",
    "    the highest number of trips, highest proportion of trips made by subscribers,\n",
    "    and the highest proportion of trips made by short-term customers.\n",
    "    \"\"\"\n",
    "    \n",
    "    # initialize count variables\n",
    "    nyc_subscribers=0\n",
    "    nyc_customers=0\n",
    "    nyc_total=0\n",
    "    washington_subscribers=0\n",
    "    washington_customers=0\n",
    "    washington_total=0\n",
    "    chicago_subscribers=0\n",
    "    chicago_customers=0\n",
    "    chicago_total=0\n",
    "\n",
    "    #gets the proportion of trips made by subscribers, customers, and total overall number of trips made for each city.\n",
    "    for city, file in filename.items():  \n",
    "        if(city=='NYC'):\n",
    "            nyc_subscribers,nyc_customers,nyc_total=number_of_trips(file)\n",
    "        if(city=='Washington'):\n",
    "            washington_subscribers,washington_customers,washington_total=number_of_trips(file)\n",
    "        if(city=='Chicago'):\n",
    "            chicago_subscribers,chicago_customers,chicago_total=number_of_trips(file)\n",
    "        \n",
    "        #gets the city with the highest number of trips\n",
    "        highest_trips=\"NYC\" if max(nyc_total,washington_total,chicago_total)==nyc_total else \"Washington\" if max(nyc_total,washington_total,chicago_total)==washington_total else \"Chicago\"\n",
    "        \n",
    "        #gets the city with the highest number of trips made by Subscribers\n",
    "        highest_subscribers=\"NYC\" if max(nyc_subscribers,washington_subscribers,chicago_subscribers)==nyc_subscribers else \"Washington\" if max(nyc_subscribers,washington_subscribers,chicago_subscribers)==washington_subscribers else \"Chicago\"\n",
    "        \n",
    "        #gets the city with the highest number of trips made by customers\n",
    "        highest_customers=\"NYC\" if max(nyc_customers,washington_customers,chicago_customers)==nyc_customers else \"Washington\" if max(nyc_customers,washington_customers,chicago_customers)==washington_customers else \"Chicago\"\n",
    "    \n",
    "    # return tallies as a tuple\n",
    "    return(highest_trips,highest_subscribers,highest_customers)"
   ]
  },
  {
   "cell_type": "code",
   "execution_count": 17,
   "metadata": {
    "collapsed": false,
    "deletable": true,
    "editable": true
   },
   "outputs": [
    {
     "name": "stdout",
     "output_type": "stream",
     "text": [
      "('NYC', 'NYC', 'Chicago')\n"
     ]
    }
   ],
   "source": [
    "# to answer question 4a\n",
    "city_info = {'Washington': './data/Washington-2016-Summary.csv',\n",
    "             'Chicago': './data/Chicago-2016-Summary.csv',\n",
    "             'NYC': './data/NYC-2016-Summary.csv'}\n",
    "\n",
    "#prints answer as tuple\n",
    "print(trips_city(city_info))"
   ]
  },
  {
   "cell_type": "markdown",
   "metadata": {
    "deletable": true,
    "editable": true
   },
   "source": [
    "**Question 4b**: Bike-share systems are designed for riders to take short trips. Most of the time, users are allowed to take trips of 30 minutes or less with no additional charges, with overage charges made for trips of longer than that duration. \n",
    "1. What is the average trip length for each city? \n",
    "2. What proportion of rides made in each city are longer than 30 minutes?\n",
    "\n",
    "**Answer**: \n",
    "1. The average trip length for each city are:\n",
    "   \n",
    "   Chicago: 16.56, \n",
    "    NYC: 15.81,\n",
    "    Washington: 18.93\n",
    "    \n",
    "2. The proportion of rides made in each city are longer than 30 minutes are:\n",
    "\n",
    "    Chicago: 0.08332, \n",
    "    NYC: 0.0730,\n",
    "    Washington: 0.1084"
   ]
  },
  {
   "cell_type": "code",
   "execution_count": 20,
   "metadata": {
    "collapsed": false,
    "deletable": true,
    "editable": true
   },
   "outputs": [],
   "source": [
    "def getAggregate(filename):\n",
    "    \"\"\"\n",
    "    This function reads in a file with trip data and reports the number of\n",
    "    trips made by subscribers, customers, and total overall.\n",
    "    \"\"\"\n",
    "    \n",
    "    with open(filename, 'r') as f_in:\n",
    "        \n",
    "        # set up csv reader object\n",
    "        reader = csv.DictReader(f_in)\n",
    "        \n",
    "        # initialize count variables\n",
    "        n_total=0\n",
    "        n_row=0\n",
    "        above_avg=0\n",
    "        \n",
    "        # change columns type\n",
    "        for row in reader:\n",
    "            row['duration'] = float(row['duration'])\n",
    "            row['hour'] = int(row['hour'])\n",
    "            row['month'] = int(row['month'])\n",
    "            \n",
    "            #get the total duration\n",
    "            n_total+=row['duration']\n",
    "            \n",
    "            #get the total number of rides\n",
    "            n_row+=1\n",
    "            \n",
    "            #get the number of rides that are above average\n",
    "            above_avg=above_avg+1 if row['duration']>30 else above_avg+0\n",
    "            \n",
    "        #get the average trip length   \n",
    "        n_avg=n_total/n_row\n",
    "        \n",
    "         #get the proportion of rides that are above average \n",
    "        p_above_avg=above_avg/n_row\n",
    "        \n",
    "        # return average trip length, and proportion of rides made that are longer than 30 minutes as tuple\n",
    "        return(n_avg, p_above_avg)\n",
    "\n",
    "#return the average trip length, proportion of rides made that are are longer than 30 minutes in each city in a dictionary\n",
    "def getCityAggregate(filename):\n",
    "    aggregate={}\n",
    "    for city, filenames in city_info.items():\n",
    "        aggregate[city]=getAggregate(filenames)\n",
    "    return(aggregate)"
   ]
  },
  {
   "cell_type": "code",
   "execution_count": 21,
   "metadata": {
    "collapsed": false,
    "deletable": true,
    "editable": true,
    "scrolled": true
   },
   "outputs": [
    {
     "name": "stdout",
     "output_type": "stream",
     "text": [
      "{'Washington': (18.93287355913721, 0.10838886711093688), 'Chicago': (16.563629368787335, 0.08332062497400562), 'NYC': (15.81259299802294, 0.07302437156337835)}\n"
     ]
    }
   ],
   "source": [
    "#to answer Question 4b.  \n",
    "print(getCityAggregate(city_info))     \n",
    "\n"
   ]
  },
  {
   "cell_type": "markdown",
   "metadata": {
    "deletable": true,
    "editable": true
   },
   "source": [
    "**Question 4c**: Which type of user takes longer rides on average in New York City: Subscribers or Customers?\n",
    "\n",
    "**Answer**: The type of user that takes longer rides on average in New York City is Customer"
   ]
  },
  {
   "cell_type": "code",
   "execution_count": 30,
   "metadata": {
    "collapsed": false,
    "deletable": true,
    "editable": true
   },
   "outputs": [],
   "source": [
    "def getUserAggregate(filename):\n",
    "    \"\"\"\n",
    "    This function reads in a file with trip data and reports the number of\n",
    "    trips made by subscribers, customers, and total overall.\n",
    "    \"\"\"\n",
    "        \n",
    "    with open(filename, 'r') as f_in:\n",
    "        # set up csv reader object\n",
    "        reader = csv.DictReader(f_in)\n",
    "        \n",
    "        # initialize count variables\n",
    "        n_subscribers=0\n",
    "        n_customers=0\n",
    "        n_total_subscribers=0\n",
    "        n_avg_subscribers=0\n",
    "        n_total_customers=0\n",
    "        n_avg_customers=0\n",
    "        \n",
    "        # change column data type\n",
    "        for row in reader:\n",
    "            row['duration'] = float(row['duration'])\n",
    "            row['hour'] = int(row['hour'])\n",
    "            row['month'] = int(row['month'])\n",
    "            \n",
    "            #gets the total subscribers' duration\n",
    "            if row['user_type'] == 'Subscriber':\n",
    "                n_total_subscribers+=row['duration']\n",
    "                n_subscribers += 1 \n",
    "            else:\n",
    "                #gets the total subscribers' duration\n",
    "                n_customers += 1\n",
    "                n_total_customers+=row['duration']\n",
    "                \n",
    "        #get the average duration of customers        \n",
    "        n_avg_customers=n_total_customers/n_customers \n",
    "        \n",
    "        #get the average duration of customers\n",
    "        n_avg_subscribers=n_total_subscribers/n_subscribers \n",
    "        \n",
    "        #get the user type with the higher average ride duration\n",
    "        above_user = 'Subscriber' if n_avg_subscribers>n_avg_customers else 'Customer'\n",
    "        \n",
    "        # returns the average travel time of customers, and subscribers, and the user type with the higher average\n",
    "        return(n_avg_customers, n_avg_subscribers, above_user)\n",
    "\n",
    "#gets the type of user that takes longer rides on average in New York City\n",
    "def getCityAverage(filename):\n",
    "    aggregate={}\n",
    "    for city, filenames in city_info.items():\n",
    "        aggregate[city]=getUserAggregate(filenames)\n",
    "    return(aggregate)"
   ]
  },
  {
   "cell_type": "code",
   "execution_count": 25,
   "metadata": {
    "collapsed": false,
    "deletable": true,
    "editable": true
   },
   "outputs": [
    {
     "name": "stdout",
     "output_type": "stream",
     "text": [
      "(32.77595139473187, 13.680790523907177, 'Customer')\n"
     ]
    }
   ],
   "source": [
    "#to answer Question 4c.     \n",
    "print(getUserAggregate('./data/NYC-2016-Summary.csv'))\n"
   ]
  },
  {
   "cell_type": "markdown",
   "metadata": {
    "deletable": true,
    "editable": true
   },
   "source": [
    "<a id='visualizations'></a>\n",
    "### Visualizations\n",
    "\n",
    "The last set of values that you computed should have pulled up an interesting result. While the mean trip time for Subscribers is well under 30 minutes, the mean trip time for Customers is actually _above_ 30 minutes! It will be interesting for us to look at how the trip times are distributed. "
   ]
  },
  {
   "cell_type": "code",
   "execution_count": 26,
   "metadata": {
    "collapsed": false,
    "deletable": true,
    "editable": true
   },
   "outputs": [
    {
     "data": {
      "image/png": "[encoded data removed]",
      "text/plain": [
       "<matplotlib.figure.Figure at 0x155a04f3748>"
      ]
     },
     "metadata": {},
     "output_type": "display_data"
    }
   ],
   "source": [
    "# load library\n",
    "import matplotlib.pyplot as plt\n",
    "\n",
    "# this is a 'magic word' that allows for plots to be displayed\n",
    "# inline with the notebook. \n",
    "%matplotlib inline \n",
    "\n",
    "# example histogram, data taken from bay area sample\n",
    "data = [ 7.65,  8.92,  7.42,  5.50, 16.17,  4.20,  8.98,  9.62, 11.48, 14.33,\n",
    "        19.02, 21.53,  3.90,  7.97,  2.62,  2.67,  3.08, 14.40, 12.90,  7.83,\n",
    "        25.12,  8.30,  4.93, 12.43, 10.60,  6.17, 10.88,  4.78, 15.15,  3.53,\n",
    "         9.43, 13.32, 11.72,  9.85,  5.22, 15.10,  3.95,  3.17,  8.78,  1.88,\n",
    "         4.55, 12.68, 12.38,  9.78,  7.63,  6.45, 17.38, 11.90, 11.52,  8.63,]\n",
    "plt.hist(data)\n",
    "plt.title('Distribution of Trip Durations')\n",
    "plt.xlabel('Duration (m)')\n",
    "plt.show()"
   ]
  },
  {
   "cell_type": "markdown",
   "metadata": {
    "deletable": true,
    "editable": true
   },
   "source": [
    "In the above cell, we collected fifty trip times in a list, and generated a histogram to show their distribution.\n",
    "\n",
    "Below, I created a histogram of the trip times for New York City. "
   ]
  },
  {
   "cell_type": "code",
   "execution_count": 27,
   "metadata": {
    "collapsed": false,
    "deletable": true,
    "editable": true
   },
   "outputs": [
    {
     "data": {
      "image/png": "[encoded data removed]",
      "text/plain": [
       "<matplotlib.figure.Figure at 0x155a04adda0>"
      ]
     },
     "metadata": {},
     "output_type": "display_data"
    }
   ],
   "source": [
    "# collect all of the trip times as a list \n",
    "times=[]\n",
    "with open('./data/NYC-2016-Summary.csv', 'r') as f_in:\n",
    "    # set up csv reader object\n",
    "    reader = csv.DictReader(f_in)\n",
    "    for row in reader:\n",
    "        times.append(float(row['duration']))\n",
    "        \n",
    "#using pyplot functions to generate a histogram of trip times.   \n",
    "plt.hist(times, range=[0,100], bins=20)\n",
    "plt.title('Distribution of Trip Durations in New York City')\n",
    "plt.xlabel('Duration (m)')\n",
    "plt.show()"
   ]
  },
  {
   "cell_type": "markdown",
   "metadata": {
    "deletable": true,
    "editable": true
   },
   "source": [
    "**Question 5**: \n",
    "1. Use the parameters of the `.hist()` function to plot the distribution of trip times for the Subscribers in New York City. \n",
    "2. Do the same thing for only the Customers. Add limits to the plots so that only trips of duration less than 75 minutes are plotted. As a bonus, set the plots up so that bars are in five-minute wide intervals. \n",
    "3. For each group, where is the peak of each distribution? \n",
    "4. How would you describe the shape of each distribution?\n",
    "\n",
    "**Answer**: \n",
    "1. The plot is shown below\n",
    "2. The plot is shown below\n",
    "3. The peak of subscribers is within the range of 5 and 10, while that of customers is between the range of 20 and 25. \n",
    "4. Both distributions are skewed to the right, that is, the mean is greater than the median, which is greater than the mode.\n",
    "From the distribution, it is observed that most subscribers rice for 5-15mins on average, while customers ride for 15-30mins on average."
   ]
  },
  {
   "cell_type": "code",
   "execution_count": 28,
   "metadata": {
    "collapsed": false,
    "deletable": true,
    "editable": true
   },
   "outputs": [
    {
     "data": {
      "text/plain": [
       "Text(0.5,0,'Duration (m)')"
      ]
     },
     "execution_count": 28,
     "metadata": {},
     "output_type": "execute_result"
    },
    {
     "data": {
      "image/png": "[encoded data removed]",
      "text/plain": [
       "<matplotlib.figure.Figure at 0x155a3b580f0>"
      ]
     },
     "metadata": {},
     "output_type": "display_data"
    }
   ],
   "source": [
    "## to answer Question 5a\n",
    "\n",
    "# collect all of the trip times of customers as a list \n",
    "cus_times=[]\n",
    "# collect all of the trip times of subscribers as a list \n",
    "sub_times=[]\n",
    "\n",
    "with open('./data/NYC-2016-Summary.csv', 'r') as f_in:\n",
    "    # set up csv reader object\n",
    "    reader = csv.DictReader(f_in)\n",
    "    for row in reader:\n",
    "        if row['user_type'] == 'Subscriber':\n",
    "            sub_times.append(float(row['duration']))\n",
    "        else:\n",
    "            cus_times.append(float(row['duration']))\n",
    "\n",
    "#using pyplot functions to generate a histogram of subscribers' trip times\n",
    "plt.hist(sub_times,range=[0,75], bins=15)\n",
    "plt.title('Distribution of Trip Durations in New York City Subscribers')\n",
    "plt.xlabel('Duration (m)')\n"
   ]
  },
  {
   "cell_type": "code",
   "execution_count": 29,
   "metadata": {
    "collapsed": false,
    "deletable": true,
    "editable": true
   },
   "outputs": [
    {
     "data": {
      "image/png": "[encoded data removed]",
      "text/plain": [
       "<matplotlib.figure.Figure at 0x155a04b2f60>"
      ]
     },
     "metadata": {},
     "output_type": "display_data"
    }
   ],
   "source": [
    "## to answer Question 5b\n",
    "\n",
    "#using pyplot functions to generate a histogram of trip times\n",
    "plt.hist(cus_times, range=[0,75],bins=15)\n",
    "plt.title('Distribution of Trip Durations in New York City Customers')\n",
    "plt.xlabel('Duration (m)')\n",
    "plt.show()\n"
   ]
  },
  {
   "cell_type": "markdown",
   "metadata": {
    "deletable": true,
    "editable": true
   },
   "source": [
    "<a id='eda_continued'></a>\n",
    "## Performing My Own Analysis\n",
    "\n",
    "So far, I've performed an initial exploration into the data available. I compared the relative volume of trips made between three U.S. cities and the ratio of trips made by Subscribers and Customers. For one of these cities, I investigated differences between Subscribers and Customers in terms of how long a typical trip lasts. I continued the exploration in a direction that I choose. \n",
    "\n",
    "**Question 6**: \n",
    "1. Which month has the highest ridership in New York City?\n",
    "2. Which day of the week has the highest ridership count in New York City?\n",
    "3. Is the pattern of ridership different on the weekends versus weekdays in NYC?\n",
    "\n",
    "**Answer**: \n",
    "1. From the bar chart below, september appears to have the highest ridership in New York City. It is closely followed by June.\n",
    "2. From the chart below, wednesday has the highest ridership count, followed closely by Thursday\n",
    "3. Even though weekdays appear to have higher ridership that weekends, the pattern of ridership are not so different."
   ]
  },
  {
   "cell_type": "code",
   "execution_count": 31,
   "metadata": {
    "collapsed": false,
    "deletable": true,
    "editable": true
   },
   "outputs": [],
   "source": [
    "#to answer 6a.\n",
    "\n",
    "# initialize count variables\n",
    "jan=0\n",
    "feb=0\n",
    "mar=0\n",
    "apr=0\n",
    "may=0\n",
    "jun=0\n",
    "jul=0\n",
    "aug=0\n",
    "sep=0\n",
    "oct=0\n",
    "nov=0\n",
    "dec=0\n",
    "\n",
    "with open('./data/NYC-2016-Summary.csv', 'r') as f_in:\n",
    "    # set up csv reader object\n",
    "    reader = csv.DictReader(f_in)\n",
    "    \n",
    "    #get the total ridership for each month\n",
    "    for row in reader:\n",
    "        if row['month'] == '1':            \n",
    "            jan+=float(row['duration'])\n",
    "        elif row['month'] == '2':            \n",
    "            feb+=float(row['duration'])\n",
    "        elif row['month'] == '3':    \n",
    "            mar+=float(row['duration'])\n",
    "        elif row['month'] == '4':            \n",
    "            apr+=float(row['duration'])\n",
    "        elif row['month'] == '5':            \n",
    "            may+=float(row['duration'])\n",
    "        elif row['month'] == '6':            \n",
    "            jun+=float(row['duration'])\n",
    "        elif row['month'] == '7':            \n",
    "            jul+=float(row['duration'])\n",
    "        elif row['month'] == '8':            \n",
    "            aug+=float(row['duration'])\n",
    "        elif row['month'] == '9':            \n",
    "            sep+=float(row['duration'])\n",
    "        elif row['month'] == '10':            \n",
    "            oct+=float(row['duration'])\n",
    "        elif row['month'] == '11':            \n",
    "            nov+=float(row['duration'])\n",
    "        else:            \n",
    "            dec+=float(row['duration'])\n",
    "                \n",
    "            "
   ]
  },
  {
   "cell_type": "code",
   "execution_count": 39,
   "metadata": {},
   "outputs": [
    {
     "data": {
      "image/png": "[encoded data removed]",
      "text/plain": [
       "<matplotlib.figure.Figure at 0x155a3b65f28>"
      ]
     },
     "metadata": {},
     "output_type": "display_data"
    }
   ],
   "source": [
    "#convert the total times for each month from seconds to minutes\n",
    "dat=[jan/60,feb/60,mar/60,apr/60,may/60,jun/60,jul/60,aug/60,sep/60,oct/60,nov/60,dec/60]\n",
    "\n",
    "#to plot the graph for each month's ridership\n",
    "x = np.arange(12)\n",
    "plt.bar(x, dat)\n",
    "plt.xticks(x, ('jan', 'Feb', 'Mar', 'Apr','May','Jun','Jul','Aug','Sep','Oct','Nov','Dec'))\n",
    "plt.xlabel(\"Month\")\n",
    "plt.ylabel(\"Total Ridership (min)\")\n",
    "plt.title(\"The Count of Ridership For Each Month in NYC\")\n",
    "plt.show()"
   ]
  },
  {
   "cell_type": "code",
   "execution_count": 40,
   "metadata": {
    "collapsed": false
   },
   "outputs": [],
   "source": [
    "#to answer Question 6b\n",
    "\n",
    "# initialize count variables\n",
    "mon=0\n",
    "mon_duration=0\n",
    "tue=0\n",
    "tue_duration=0\n",
    "wed=0\n",
    "wed_duration=0\n",
    "thur=0\n",
    "thur_duration=0\n",
    "fri=0\n",
    "fri_duration=0\n",
    "sat=0\n",
    "sat_duration=0\n",
    "sun=0\n",
    "sun_duration=0\n",
    "\n",
    "with open('./data/NYC-2016-Summary.csv', 'r') as f_in:\n",
    "    # set up csv reader object\n",
    "    reader = csv.DictReader(f_in)\n",
    "    \n",
    "    for row in reader:\n",
    "        if row['day_of_week'] == 'Sunday':\n",
    "            sun+=1 #get the count of rides for sundays\n",
    "            sun_duration+=float(row['duration'])   #get the total ridership for sundays     \n",
    "        elif row['day_of_week'] == 'Saturday':\n",
    "            sat+=1 \n",
    "            sat_duration+=float(row['duration'])        \n",
    "        elif row['day_of_week'] == 'Friday':\n",
    "            fri+=1 \n",
    "            fri_duration+=float(row['duration'])\n",
    "        elif row['day_of_week'] == 'Thursday':\n",
    "            thur+=1   \n",
    "            thur_duration+=float(row['duration'])\n",
    "        elif row['day_of_week'] == 'Wednesday':\n",
    "            wed+=1  \n",
    "            wed_duration+=float(row['duration'])\n",
    "        elif row['day_of_week'] == 'Tuesday':\n",
    "            tue+=1    \n",
    "            tue_duration+=float(row['duration'])\n",
    "        else:\n",
    "            mon+=1          \n",
    "            mon_duration+=float(row['duration'])\n",
    "            "
   ]
  },
  {
   "cell_type": "code",
   "execution_count": 45,
   "metadata": {
    "collapsed": false
   },
   "outputs": [
    {
     "data": {
      "image/png": "[encoded data removed]",
      "text/plain": [
       "<matplotlib.figure.Figure at 0x155a4aea2b0>"
      ]
     },
     "metadata": {},
     "output_type": "display_data"
    }
   ],
   "source": [
    "#collect the count of daily ridership\n",
    "dat=[mon,tue,wed,thur,fri,sat,sun]\n",
    "\n",
    "#to plot the chart for the total ridership count for each day\n",
    "x = np.arange(7)\n",
    "plt.bar(x, dat)\n",
    "plt.xlabel(\"Day\")\n",
    "plt.ylabel(\"Count\")\n",
    "plt.xticks(x, ('mon','tue','wed','thur','fri','sat','sun'))\n",
    "plt.title(\"Count of Ridership for Each day\")\n",
    "plt.show()"
   ]
  },
  {
   "cell_type": "code",
   "execution_count": 53,
   "metadata": {
    "collapsed": false
   },
   "outputs": [
    {
     "data": {
      "image/png": "[encoded data removed]",
      "text/plain": [
       "<matplotlib.figure.Figure at 0x155a5bcfeb8>"
      ]
     },
     "metadata": {},
     "output_type": "display_data"
    },
    {
     "data": {
      "image/png": "[encoded data removed]",
      "text/plain": [
       "<matplotlib.figure.Figure at 0x155a5b1cd68>"
      ]
     },
     "metadata": {},
     "output_type": "display_data"
    }
   ],
   "source": [
    "#collect the total daily ridership\n",
    "dat=[mon_duration,tue_duration,wed_duration,thur_duration,fri_duration,sat_duration,sun_duration]\n",
    "weekday=sum(dat[:5])/5\n",
    "weekend=sum(dat[5:])/2\n",
    "\n",
    "#to plot the chart for the total ridership count for each day\n",
    "x = np.arange(7)\n",
    "plt.bar(x, dat)\n",
    "plt.xlabel(\"Day\")\n",
    "plt.ylabel(\"Total Ridership (min)\")\n",
    "plt.xticks(x, ('mon','tue','wed','thur','fri','sat','sun'))\n",
    "plt.title(\"Total Ridership for Each day\")\n",
    "plt.show()\n",
    "\n",
    "#to plot the chart for the average ridership for Weekends and Weekdays\n",
    "x = np.arange(2)\n",
    "plt.bar(x, [weekday, weekend])\n",
    "plt.xlabel(\"Day\")\n",
    "plt.ylabel(\"Average Ridership (min)\")\n",
    "plt.xticks(x, ('weekday','weekend'))\n",
    "plt.title(\"Average Ridership for Weekends and Weekdays\")\n",
    "plt.show()"
   ]
  },
  {
   "cell_type": "markdown",
   "metadata": {
    "deletable": true,
    "editable": true
   },
   "source": [
    "<a id='conclusions'></a>\n",
    "## Conclusions\n",
    "\n",
    "Congratulations on completing the project! This is only a sampling of the data analysis process: from generating questions, wrangling the data, and to exploring the data. Normally, at this point in the data analysis process, you might want to draw conclusions about the data by performing a statistical test or fitting the data to a model for making predictions. There are also a lot of potential analyses that could be performed on the data which are not possible with only the data provided. For example, detailed location data has not been investigated. Where are the most commonly used docks? What are the most common routes? As another example, weather has potential to have a large impact on daily ridership. How much is ridership impacted when there is rain or snow? Are subscribers or customers affected more by changes in weather?\n",
    "\n",
    "**Question 7**: Putting the bike share data aside, think of a topic or field of interest where you would like to be able to apply the techniques of data science. What would you like to be able to learn from your chosen subject?\n",
    "\n",
    "**Answer**: \n",
    "1. I will like to apply it on issues relating to elections results; finding out the factors that affect the results, and what kind of candidate people vote for. \n",
    "2. I will also like to use this skill in analyzing the causes of traffic in Lagos State, Nigeria; and how to mitigate it.\n"
   ]
  },
  {
   "cell_type": "code",
   "execution_count": 54,
   "metadata": {
    "collapsed": true,
    "deletable": true,
    "editable": true
   },
   "outputs": [
    {
     "data": {
      "text/plain": [
       "0"
      ]
     },
     "execution_count": 54,
     "metadata": {},
     "output_type": "execute_result"
    }
   ],
   "source": [
    "from subprocess import call\n",
    "call(['python', '-m', 'nbconvert', 'Bike_Share_Analysis.ipynb'])"
   ]
  },
  {
   "cell_type": "code",
   "execution_count": null,
   "metadata": {},
   "outputs": [],
   "source": []
  }
 ],
 "metadata": {
  "anaconda-cloud": {},
  "kernelspec": {
   "display_name": "Python 3",
   "language": "python",
   "name": "python3"
  },
  "language_info": {
   "codemirror_mode": {
    "name": "ipython",
    "version": 3
   },
   "file_extension": ".py",
   "mimetype": "text/x-python",
   "name": "python",
   "nbconvert_exporter": "python",
   "pygments_lexer": "ipython3",
   "version": "3.6.3"
  }
 },
 "nbformat": 4,
 "nbformat_minor": 2
}
